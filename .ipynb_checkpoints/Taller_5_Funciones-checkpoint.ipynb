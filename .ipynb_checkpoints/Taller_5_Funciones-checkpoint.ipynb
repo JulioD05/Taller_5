{
  "cells": [
    {
      "cell_type": "markdown",
      "id": "66beb5a1",
      "metadata": {
        "id": "66beb5a1"
      },
      "source": [
        "# Fundamentos de Programación para Ingeniería Mecánica\n",
        "## UPB Montería - 202310\n",
        "### Taller 5: Funciones y Estructuras de Datos\n",
        "- Docente: Miguel Ortiz (miguel.ortizp@upb.edu.co)"
      ]
    },
    {
      "cell_type": "markdown",
      "id": "b4381f55",
      "metadata": {
        "id": "b4381f55"
      },
      "source": [
        "Datos del Estudiante:\n",
        "- Nombre: Julio Ernesto Vasquez Dueñas\n",
        "- ID: 515355\n",
        "- email: julio.vasquezd@upb.edu.co"
      ]
    },
    {
      "cell_type": "markdown",
      "id": "433f35a0",
      "metadata": {
        "id": "433f35a0"
      },
      "source": [
        "> Resuelva los siguientes ejercicios utilizando **Funciones, Listas y Diccionarios**."
      ]
    },
    {
      "cell_type": "markdown",
      "id": "aead929b",
      "metadata": {
        "id": "aead929b"
      },
      "source": [
        "### Problema 1: Discurso Político (150xp)\n",
        "\n",
        "Diseñe el algoritmo y escriba un código en lenguaje de programación Python para generar discursos políticos aleatorios, teniendo en cuenta la siguiente imagen:\n",
        "\n",
        "![componentes de un discurso](https://github.com/Mikheltodd/FunProgMec_202310_Taller5/blob/main/.ipynb_checkpoints/discurso.png?raw=1)\n",
        "\n",
        "Para ello, debe solicitar al usuario el nombre del candidato, un presupuesto general, y tres (3) porcentajes que representen los dineros que destinará a diferentes sectores seleccionados de forma aleatoria (lista de beneficio populista).\n",
        "\n",
        "Crea una función sin parámetros que retorne un string con el mensaje político. Dentro de la función deben aparecer los inputs para solicitar información al usuario. Guarda el mensaje creado por la función en una variable llamada `mensaje_politico` e imprime su valor en consola. \n",
        "\n",
        "**Ejemplo:**\n",
        "\n",
        "```\n",
        ">>> Entradas:\n",
        "Ingrese nombre del candidato: Chocolove McDonell\n",
        "Ingrese presupuesto (en millones de pesos): 1250\n",
        "Ingrese Porcentaje 1: 25\n",
        "Ingrese Porcentaje 2: 30\n",
        "Ingrese Porcentaje 3: 45\n",
        ">>> Salidas:\n",
        "Estimados copartidarios. \n",
        "Mi nombre es Chocolove McDonell y hoy vengo a decirles que, con su ayuda combatiré el desplazamiento y promoveré la educación de cada colombiano. Y es por eso que hoy he venido a proponerles invertir $1250.0 millones de pesos de la siguiente manera: \n",
        " - $312.5 millones de pesos en el empleo \n",
        " - $375.0 millones de pesos en la educación \n",
        " - $562.5 millones de pesos en la salud \n",
        "```\n",
        "\n",
        "**Nota:** para seleccionar un elemento aleatorio de una lista puede utilizar la función `choice()` de la librería random:\n",
        "\n",
        "```python\n",
        "import random\n",
        "random.choice([1, 2, 3])\n",
        "```\n",
        "\n",
        "**Recomendación:** cree las variables sin acento (tildes) y en minúsculas. "
      ]
    },
    {
      "cell_type": "code",
      "source": [
        "def discurso():\n",
        "    titulo = random.choice(['Queridos ', 'Apreciados ', 'Distinguidos ', 'Honorables ', 'Estimados ', 'Respetados '])\n",
        "    publico = random.choice(['Compatriotas ', 'Copartidarios ', 'Amigos ', 'Coterráneos ', 'Conciudadanos ', 'Electores '])\n",
        "    condicion = random.choice(['En mi gobierno ', 'Con si apoyo ', 'Siendo elegido ', 'Con su ayuda ', 'Si me siguen ', 'Durante mi mandato '])\n",
        "    compromiso = random.choice(['Voy a derrotar ', 'Venceré ', 'Elemiminaré ', 'Acabaré ', 'Lucharé contra ', 'Combatiré '])\n",
        "    ilusion = random.choice(['La violencia y ', 'La delincuencia y ', 'La corrupción y ', 'La inflación y ', 'La pobreza y ', 'El desplazamiento y '])\n",
        "    promesa = random.choice(['Trabajaré por ', 'Garantizaré ', 'Protegeré ', 'Velaré por ', 'Promoveré ', 'Defenderé '])\n",
        "    beneficio = random.choice(['La educación ', 'El empleo ', 'La seguridad ', 'La paz ', 'La igualdad ', 'La salud '])\n",
        "    cant_votos = random.choice(['Del país ', 'De la ciudad ', 'De la comunidad ', 'De la población', 'Para toda la gente', 'De cada colombiano'])\n",
        "     \n",
        "    return titulo, publico, condicion, compromiso, ilusion, promesa, beneficio, cant_votos\n",
        "    \n",
        "\n",
        "    \n",
        "h = input('Ingrese el nombre de su candidato: ')\n",
        "m = float(input('Ingrese presupuesto (en millones de pesos): '))\n",
        "porcentaje1 = float(input(\"Ingresa el porcentaje 1: \"))\n",
        "porcentaje2 = float(input(\"Ingresa el porcentaje 2: \"))\n",
        "porcentaje3 = float(input(\"Ingresa el porcentaje 3: \"))\n",
        "\n",
        "resultado1 = m * porcentaje1 / 100\n",
        "resultado2 = m * porcentaje2 / 100\n",
        "resultado3 = m * porcentaje3 / 100\n",
        "\n",
        "print(f\"El {porcentaje1}% de {m} es {resultado1}\")\n",
        "print(f\"El {porcentaje2}% de {m} es {resultado2}\")\n",
        "print(f\"El {porcentaje3}% de {m} es {resultado3}\")\n",
        "    \n",
        "titulo, publico, condicion, compromiso, ilusion, promesa, beneficio, cant_votos = discurso()\n",
        "\n",
        "print('Mi nombre es', h, 'y hoy vengo a decirles' , titulo, publico, condicion, compromiso, ilusion, promesa, beneficio, cant_votos, '.', 'Y es por eso que hoy he venido a proponerles invertir', m, 'millones de pesos de la siguiente manera: ')\n",
        "\n",
        "print(f\"El {porcentaje1}% de ${m} es ${resultado1} y se utilizara para el desempleo.\")\n",
        "print(f\"El {porcentaje2}% de ${m} es ${resultado2} y sera destinado a la salud.\")\n",
        "print(f\"El {porcentaje3}% de ${m} es ${resultado3} y este monto sera para las familias pobres.\")"
      ],
      "metadata": {
        "id": "JjS2dCcWhJd2"
      },
      "id": "JjS2dCcWhJd2",
      "execution_count": null,
      "outputs": []
    }
  ],
  "metadata": {
    "kernelspec": {
      "display_name": "Python 3 (ipykernel)",
      "language": "python",
      "name": "python3"
    },
    "language_info": {
      "codemirror_mode": {
        "name": "ipython",
        "version": 3
      },
      "file_extension": ".py",
      "mimetype": "text/x-python",
      "name": "python",
      "nbconvert_exporter": "python",
      "pygments_lexer": "ipython3",
      "version": "3.10.6"
    },
    "colab": {
      "provenance": []
    }
  },
  "nbformat": 4,
  "nbformat_minor": 5
}